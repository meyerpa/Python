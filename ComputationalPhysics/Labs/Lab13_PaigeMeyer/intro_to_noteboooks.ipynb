{
 "cells": [
  {
   "cell_type": "markdown",
   "metadata": {
    "collapsed": true,
    "deletable": true,
    "editable": true
   },
   "source": [
    "# This is a Jupyter notebook\n",
    "\n",
    "It consists of a series of \"cells.\" There are two types of cell:\n",
    "\n",
    "+ A code cell, which contains python code (actually, it can use code from other computer languages too).\n",
    "+ A \"markdown\" cell, which contains comments (code cells can have comments too)(and markdown cells can hold more than comments)"
   ]
  },
  {
   "cell_type": "markdown",
   "metadata": {
    "deletable": true,
    "editable": true
   },
   "source": [
    "## The cell below is a code cell\n",
    "\n",
    "To run it:\n",
    "\n",
    "1. Click on the cell to select it, then...\n",
    "2. Push `SHIFT+ENTER` on the keyboard."
   ]
  },
  {
   "cell_type": "code",
   "execution_count": 1,
   "metadata": {
    "collapsed": false,
    "deletable": true,
    "editable": true
   },
   "outputs": [
    {
     "name": "stdout",
     "output_type": "stream",
     "text": [
      "Hello student!\n"
     ]
    }
   ],
   "source": [
    "print(\"Hello student!\")"
   ]
  },
  {
   "cell_type": "markdown",
   "metadata": {
    "deletable": true,
    "editable": true
   },
   "source": [
    "## Code cell exercise\n",
    "\n",
    "Write code in the cell below to set a variable `x` to the value `5` and print it, then execute it."
   ]
  },
  {
   "cell_type": "code",
   "execution_count": 2,
   "metadata": {
    "collapsed": false,
    "deletable": true,
    "editable": true
   },
   "outputs": [
    {
     "name": "stdout",
     "output_type": "stream",
     "text": [
      "5\n"
     ]
    }
   ],
   "source": [
    "x = 5\n",
    "print(x)"
   ]
  },
  {
   "cell_type": "markdown",
   "metadata": {
    "deletable": true,
    "editable": true
   },
   "source": [
    "## More about markdown cells\n",
    "\n",
    "To edit a markdown (comment) cell, double click on it, make the changes you want to, then press `SHIFT+ENTER`\n",
    "\n",
    "[markdown](https://daringfireball.net/projects/markdown/) is a simple way of adding formatting to plain text.\n",
    "\n",
    "You can make words **bold like this**: `**bold like this**`\n",
    "\n",
    "Italics are *easy too*: `*easy too*`\n",
    "\n",
    "Code can be formatted also; to get `print(\"Hello\")` you put backticks around the code.\n",
    "\n",
    "Headings are made by putting one or more `#` at the beginning of a line. The more `#` you have the smaller the heading.\n",
    "\n",
    "Lists are straightforward:\n",
    "\n",
    "+ First item\n",
    "* Second item\n",
    "- Third item\n",
    "+ Though you can use a different symbol for each list item, it is a bad idea.\n",
    "\n",
    "Double-click this cell to see how to make a list."
   ]
  },
  {
   "cell_type": "markdown",
   "metadata": {
    "deletable": true,
    "editable": true
   },
   "source": [
    "# Exercise: Markdown cell practice\n",
    "\n",
    "Edit this cell so that it contains:\n",
    "\n",
    "1. Your name, as a level 1 heading.\n",
    "2. The name of your favorite python package, as code.\n",
    "3. A sentence with one word in bold and one in italics (and as many other words in normal text as you want).\n",
    "# Paige Meyer\n",
    "`import sklearn`\n",
    "\n",
    "This is a sentence with one word in **bold** and one in *italics*"
   ]
  },
  {
   "cell_type": "code",
   "execution_count": null,
   "metadata": {
    "collapsed": true
   },
   "outputs": [],
   "source": []
  }
 ],
 "metadata": {
  "kernelspec": {
   "display_name": "Python [default]",
   "language": "python",
   "name": "python3"
  },
  "language_info": {
   "codemirror_mode": {
    "name": "ipython",
    "version": 3
   },
   "file_extension": ".py",
   "mimetype": "text/x-python",
   "name": "python",
   "nbconvert_exporter": "python",
   "pygments_lexer": "ipython3",
   "version": "3.5.1"
  }
 },
 "nbformat": 4,
 "nbformat_minor": 0
}
