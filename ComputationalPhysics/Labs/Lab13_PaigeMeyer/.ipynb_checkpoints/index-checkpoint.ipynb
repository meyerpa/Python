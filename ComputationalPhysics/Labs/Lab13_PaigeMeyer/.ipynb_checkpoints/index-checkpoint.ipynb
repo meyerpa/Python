{
 "cells": [
  {
   "cell_type": "markdown",
   "metadata": {
    "deletable": true,
    "editable": true
   },
   "source": [
    "1. [Introduction to Jupyter Notebooks](intro_to_noteboooks.ipynb)\n",
    "2. [Plotting in a notebook (with matplotlilb)](notebook_plotting.ipynb)\n",
    "3. [Displaying two-dimensional data](displaying_images.ipynb)\n",
    "4. [Colormaps](colormaps.ipynb)\n",
    "5. [Two-dimensional data, revisited](displaying_images_2.ipynb)\n",
    "6. [Mystery image](mystery_image.ipynb)"
   ]
  }
 ],
 "metadata": {
  "kernelspec": {
   "display_name": "Python 3",
   "language": "python",
   "name": "python3"
  },
  "language_info": {
   "codemirror_mode": {
    "name": "ipython",
    "version": 3
   },
   "file_extension": ".py",
   "mimetype": "text/x-python",
   "name": "python",
   "nbconvert_exporter": "python",
   "pygments_lexer": "ipython3",
   "version": "3.5.1"
  }
 },
 "nbformat": 4,
 "nbformat_minor": 0
}
