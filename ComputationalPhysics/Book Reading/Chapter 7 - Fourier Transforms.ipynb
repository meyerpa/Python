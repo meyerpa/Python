{
 "cells": [
  {
   "cell_type": "markdown",
   "metadata": {},
   "source": [
    "# Chapter 7 - Fourier Transforms"
   ]
  },
  {
   "cell_type": "markdown",
   "metadata": {
    "collapsed": true
   },
   "source": [
    "As every physicist learns, a period function <i>f(x)</i> defined on a finite interval *0 &le; x &lt; L* can be written as a <strong>Fourier series</strong>. If the fuction is symmetric about the midpoint, we can write f(x) = k=0 &rarr; inf &sum; &alpha;<sub>k</sub>cos(2&pi;kx/L) where &alpha<sub>k</sub> are the coefficients whos values ddepend on the shape of the function. If the function is not symmetric, we can use f(x) = k=1 &rarr; inf &sum; &Beta;<sub>k</sub>cos(2&pi;kx/L). Note that we can combune these two as a sume of even and odd parts and have  \n",
    "\n",
    "f(x) = k=0 &rarr; &infin; &sum; &alpha;<sub>k</sub>cos(2&pi;kx / L) + k=1 &rarr; inf &sum; &Beta;<sub>k</sub>cos(2&pi;kx / L)\n",
    "\n",
    "An alternativfe way to write this as transforming cosines and sines to exp(whatevers), resulting in \n",
    "\n",
    "f(x) = k=-&infin; &rarr; &infin; &sum; &phi;<sub>k</sub>exp(i2&pi;kx / L)\n",
    "\n",
    "Where &phi;<sub>k</sub> = \n",
    "\\begin{cases} \n",
    "    \\text{1/2 ( &alpha;<sub>-k</sub> + i&Beta;<sub>-k</sub>} \\\\\n",
    "    \\text{&alpha;<sub>0</sub>} \\\\\n",
    "    \\text{1/2 ( &alpha;<sub>k</sub> + i&Beta;<sub>k</sub>} \\\\\n",
    "\\end{cases}\n",
    "\n",
    "If you can find the coefficient for a particular function *f(x)* then the Fourier Series gives a compact way of representing the entire function that comes in hand for all sourts of numerical calucations. Note that the Fourier series can be used only for periodic functions."
   ]
  },
  {
   "cell_type": "markdown",
   "metadata": {
    "collapsed": true
   },
   "source": [
    "#### The Discrete Fourier Transform\n",
    "Sometimes the f(x) in the section above cannot be found directly, using the continuous equation. This is typically approximated using a dsicrete transform  where &phi;<sub>k</sub>  = 1/N * n=0 &rarr; &infin; &Sigma;f(x<sub>n</sub>)exp(-i2&pi;kx<sub>n</sub> / L). The not normalized (missing 1/N) is also sometimes denoted using c<sub>k</sub>.Using the inverse discrete Fourier transform, we can find that y<sub>n</sub> = 1/N * (from k=0 &rarr; N-1 &Sigma c<sub>k</sub>exp(i2&pi;kn/N))."
   ]
  },
  {
   "cell_type": "code",
   "execution_count": 2,
   "metadata": {
    "collapsed": false
   },
   "outputs": [
    {
     "data": {
      "image/png": "[encoded data removed]",
      "text/plain": [
       "<matplotlib.figure.Figure at 0x1340ca31d30>"
      ]
     },
     "metadata": {},
     "output_type": "display_data"
    }
   ],
   "source": [
    "from numpy import zeros,loadtxt\n",
    "from pylab import plot,xlim,show\n",
    "from cmath import exp,pi\n",
    "\n",
    "def dft(y):\n",
    "    N = len(y)\n",
    "    c = zeros(N//2+1,complex)\n",
    "    for k in range(N//2+1):\n",
    "        for n in range(N):\n",
    "            c[k] += y[n]*exp(-2j*pi*k*n/N)\n",
    "    return c\n",
    "\n",
    "y = loadtxt(\"cpresources\\pitch.txt\",float)\n",
    "c = dft(y)\n",
    "plot(abs(c)) # we use absolute value since they can be complex\n",
    "xlim(0,500)\n",
    "show()"
   ]
  },
  {
   "cell_type": "markdown",
   "metadata": {
    "collapsed": true
   },
   "source": [
    "#### 7.2.3 Physical Interpretations of Fourier Transforms\n",
    "The Fourier transofrom breaks a function down into a set of real or complex sinusoidal waves. Each tear in a sume represetns one wave with its own well-defined frequency. If the function *f(x)* is a function in space then we have spactial frequencies; if it's a function in time then we have temporal frequencies, like musical notes. Saying that any function can be expressed as a sum of waves of given frequencies and the Fourier transform tells us what that sum is for any particular funtion: the coefficients of the transform tell us exactly how much of each frequency we have in the sum. Thus, by looking at the output of our Fourier transofrm, we can get a picture of the frequency breakdown of a signal is. "
   ]
  },
  {
   "cell_type": "markdown",
   "metadata": {
    "collapsed": true
   },
   "source": [
    "#### Exercise 7.1 Fourier transforms of simple functions"
   ]
  },
  {
   "cell_type": "code",
   "execution_count": null,
   "metadata": {
    "collapsed": true
   },
   "outputs": [],
   "source": []
  },
  {
   "cell_type": "markdown",
   "metadata": {
    "collapsed": true
   },
   "source": [
    "#### Exercise 7.2 Detecting periodicity"
   ]
  },
  {
   "cell_type": "code",
   "execution_count": null,
   "metadata": {
    "collapsed": true
   },
   "outputs": [],
   "source": []
  },
  {
   "cell_type": "markdown",
   "metadata": {
    "collapsed": true
   },
   "source": [
    "## Discrete Cosine and Sine Transforms\n",
    "Cosine can be used for symmetric periodic functions (about x = 1/2 L). This does not assume that the samples themself are period., unlike the DFT. Also, the sine transorms are used less often than the cosine tranforms because thye fore the funciton *f(x)* to be zero at either end of its range. This transform is used in compressing JPEG and MP3 (variant).\n",
    "\n",
    "Note: any non-symmetric function can turn into a symmetric one if add the mirror image of itself."
   ]
  },
  {
   "cell_type": "markdown",
   "metadata": {
    "collapsed": true
   },
   "source": [
    "## Fast Fourier Transforms\n",
    "\n",
    "STart with a single sample, which is equal to itself. Combine each single sample into pairs, and then combine the pairs into fours creating larger and larger fast Fourier transforms. The advantage of this computation is speed. O(N^2) &rarr; O(log<sub>2</sub>(N))."
   ]
  },
  {
   "cell_type": "code",
   "execution_count": 3,
   "metadata": {
    "collapsed": false
   },
   "outputs": [
    {
     "name": "stdout",
     "output_type": "stream",
     "text": [
      "[ 0.   0.1  0.2  0.3  0.4  0.5  0.6  0.7  0.8  0.9]\n"
     ]
    }
   ],
   "source": [
    "from numpy import array\n",
    "from numpy.fft import rfft, irfft\n",
    "\n",
    "y = array([0.0, 0.1, 0.2, 0.3, 0.4, 0.5, 0.6, 0.7, 0.8, 0.9], float)\n",
    "c = rfft(y) # create complex array c containing the coefficients fo the Fourier tranform\n",
    "z = irfft(c) # do the inverse of above\n",
    "print(z)"
   ]
  },
  {
   "cell_type": "markdown",
   "metadata": {
    "collapsed": true
   },
   "source": [
    "#### Exercise 7.3 Fourier tranforms of musical instruments"
   ]
  },
  {
   "cell_type": "code",
   "execution_count": null,
   "metadata": {
    "collapsed": true
   },
   "outputs": [],
   "source": []
  },
  {
   "cell_type": "markdown",
   "metadata": {
    "collapsed": true
   },
   "source": [
    "#### Exercise 7.4 Fourier filtering and smoothing"
   ]
  },
  {
   "cell_type": "code",
   "execution_count": null,
   "metadata": {
    "collapsed": true
   },
   "outputs": [],
   "source": []
  },
  {
   "cell_type": "markdown",
   "metadata": {
    "collapsed": true
   },
   "source": [
    "#### Exercise 7.5"
   ]
  },
  {
   "cell_type": "code",
   "execution_count": null,
   "metadata": {
    "collapsed": true
   },
   "outputs": [],
   "source": []
  },
  {
   "cell_type": "markdown",
   "metadata": {
    "collapsed": true
   },
   "source": [
    "#### 7.4.3 Fast Cosine and Sine Transforms"
   ]
  },
  {
   "cell_type": "code",
   "execution_count": 9,
   "metadata": {
    "collapsed": false
   },
   "outputs": [
    {
     "name": "stdout",
     "output_type": "stream",
     "text": [
      "[  9.00000000e+00  -4.03603612e+00   1.01069846e-16  -4.32302109e-01\n",
      "   3.30860932e-16  -1.41421356e-01  -5.91890020e-16  -5.71853781e-02\n",
      "  -5.67283728e-17  -1.60358722e-02]\n"
     ]
    }
   ],
   "source": [
    "from numpy.fft import rfft,irfft\n",
    "from numpy import empty, arange, exp,real,pi,array\n",
    "\n",
    "def dct(y):\n",
    "    N = len(y)\n",
    "    y2 = empty(2*N,float)\n",
    "    for n in range(N):\n",
    "        y2[n] = y[n]\n",
    "        y2[2*N-1-n] = y[n]\n",
    "    c = rfft(y2)\n",
    "    phi = exp(-1j*pi*arange(N)/(2*N))\n",
    "    return real(phi*c[:N])\n",
    "z = dct(array([0.0, 0.1, 0.2, 0.3, 0.4, 0.5, 0.6, 0.7, 0.8, 0.9], float))\n",
    "print(z)"
   ]
  },
  {
   "cell_type": "markdown",
   "metadata": {
    "collapsed": true
   },
   "source": [
    "#### Exercise 7.6 Comparison of the DFT and DCT"
   ]
  },
  {
   "cell_type": "code",
   "execution_count": null,
   "metadata": {
    "collapsed": true
   },
   "outputs": [],
   "source": []
  },
  {
   "cell_type": "markdown",
   "metadata": {
    "collapsed": true
   },
   "source": [
    "#### Exercise 7.7 Fast Fourier transform"
   ]
  },
  {
   "cell_type": "code",
   "execution_count": null,
   "metadata": {
    "collapsed": true
   },
   "outputs": [],
   "source": []
  },
  {
   "cell_type": "markdown",
   "metadata": {
    "collapsed": true
   },
   "source": [
    "#### Exercise 7.8 Diffraction gratings"
   ]
  },
  {
   "cell_type": "code",
   "execution_count": null,
   "metadata": {
    "collapsed": true
   },
   "outputs": [],
   "source": []
  },
  {
   "cell_type": "markdown",
   "metadata": {
    "collapsed": true
   },
   "source": [
    "#### Exercise 7.9 Image Deconvolution"
   ]
  },
  {
   "cell_type": "code",
   "execution_count": null,
   "metadata": {
    "collapsed": true
   },
   "outputs": [],
   "source": []
  }
 ],
 "metadata": {
  "anaconda-cloud": {},
  "kernelspec": {
   "display_name": "Python [conda root]",
   "language": "python",
   "name": "conda-root-py"
  },
  "language_info": {
   "codemirror_mode": {
    "name": "ipython",
    "version": 3
   },
   "file_extension": ".py",
   "mimetype": "text/x-python",
   "name": "python",
   "nbconvert_exporter": "python",
   "pygments_lexer": "ipython3",
   "version": "3.5.2"
  }
 },
 "nbformat": 4,
 "nbformat_minor": 1
}
