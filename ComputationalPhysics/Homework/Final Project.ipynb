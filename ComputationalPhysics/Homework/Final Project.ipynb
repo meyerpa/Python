{
 "cells": [
  {
   "cell_type": "markdown",
   "metadata": {},
   "source": [
    "## Imports"
   ]
  },
  {
   "cell_type": "code",
   "execution_count": 3,
   "metadata": {
    "collapsed": true
   },
   "outputs": [],
   "source": [
    "%matplotlib inline\n",
    "\n",
    "import matplotlib.pyplot as plt\n",
    "import numpy as np"
   ]
  },
  {
   "cell_type": "markdown",
   "metadata": {},
   "source": [
    "## Get the data"
   ]
  },
  {
   "cell_type": "code",
   "execution_count": 4,
   "metadata": {
    "collapsed": true
   },
   "outputs": [],
   "source": [
    "# Read the elevation data stored as a numpy data file.\n",
    "# The value stored in the array is the elevation at a particular point, \n",
    "# in meters above sea level.\n",
    "\n",
    "data = np.loadtxt(\"altitude.txt\")"
   ]
  },
  {
   "cell_type": "markdown",
   "metadata": {},
   "source": [
    "## Plot where data is"
   ]
  },
  {
   "cell_type": "code",
   "execution_count": 5,
   "metadata": {
    "collapsed": false
   },
   "outputs": [
    {
     "data": {
      "image/png": "[encoded data removed]",
      "text/plain": [
       "<matplotlib.figure.Figure at 0x2ce6b1b87f0>"
      ]
     },
     "metadata": {},
     "output_type": "display_data"
    }
   ],
   "source": [
    "plt.hist(data.flatten(), log=True, bins=40);"
   ]
  },
  {
   "cell_type": "markdown",
   "metadata": {},
   "source": [
    "## Use Forward Derivative"
   ]
  },
  {
   "cell_type": "code",
   "execution_count": 4,
   "metadata": {
    "collapsed": true
   },
   "outputs": [],
   "source": [
    "def derivative(x, y):\n",
    "    \"\"\"Approximate first derivative using the forward difference technique\n",
    "\n",
    "    Parameters\n",
    "    ----------\n",
    "    x : numpy array\n",
    "        The x-value of the function\n",
    "    y : numpy array\n",
    "        The y-values cooresponding to the x-values at the function\n",
    "\n",
    "    Returns\n",
    "    -------\n",
    "    dy/dx : numpy array\n",
    "        The approximation of the derivative in an N-1 dimensional\n",
    "        numpy array\n",
    "    \"\"\"\n",
    "    # x : np array\n",
    "    # y : np array\n",
    "    # Compute forward difference estimate for the derivative for array of N\n",
    "    # points and values of the function at those points.  The two 1-D arrays\n",
    "    # must be the same size.\n",
    "    dy = y[1:] - y[:-1]             # compute y[i+1] - y[i] difference\n",
    "    dx = x[1:] - x[:-1]               # compute x[i+1] - x[i] difference\n",
    "    return dy / dx\n"
   ]
  },
  {
   "cell_type": "markdown",
   "metadata": {
    "collapsed": true
   },
   "source": [
    "## Use Central Derivative"
   ]
  },
  {
   "cell_type": "code",
   "execution_count": 35,
   "metadata": {
    "collapsed": false
   },
   "outputs": [],
   "source": [
    "def derivative_central(x, y):\n",
    "    \"\"\"Approximate first derivative using the central difference technique\n",
    "\n",
    "    Parameters\n",
    "    ----------\n",
    "    x : numpy array\n",
    "        The x-value of the function\n",
    "    y : numpy array\n",
    "        The y-values cooresponding to the x-values at the function\n",
    "\n",
    "    Returns\n",
    "    -------\n",
    "    dy/dx : numpy array\n",
    "        The approximation of the derivative in an N-2 dimensional\n",
    "        numpy array\n",
    "\n",
    "    \"\"\"\n",
    "    dy = y[1:] - y[:-1]\n",
    "    dx = x[1:] - x[:-1]\n",
    "    return dy / dx"
   ]
  },
  {
   "cell_type": "code",
   "execution_count": 19,
   "metadata": {
    "collapsed": false
   },
   "outputs": [
    {
     "data": {
      "text/plain": [
       "512"
      ]
     },
     "execution_count": 19,
     "metadata": {},
     "output_type": "execute_result"
    }
   ],
   "source": [
    "nrow, ncol = data.shape"
   ]
  },
  {
   "cell_type": "code",
   "execution_count": 40,
   "metadata": {
    "collapsed": false
   },
   "outputs": [],
   "source": [
    "step = 30000\n",
    "position = np.arange(0, ncol*step+step, step)\n",
    "derivatives = np.empty_like(data)"
   ]
  },
  {
   "cell_type": "code",
   "execution_count": 44,
   "metadata": {
    "collapsed": false
   },
   "outputs": [
    {
     "name": "stdout",
     "output_type": "stream",
     "text": [
      "pos (1025,)\n",
      "data (512, 1024)\n",
      "cent_derives (511, 1024)\n"
     ]
    }
   ],
   "source": [
    "print(\"pos\",position.shape)\n",
    "print(\"data\", data.shape)\n",
    "cent_derivs = derivative_central(position, data)\n",
    "print(\"cent_derives\", cent_derivs.shape)"
   ]
  },
  {
   "cell_type": "code",
   "execution_count": 23,
   "metadata": {
    "collapsed": false
   },
   "outputs": [
    {
     "data": {
      "text/plain": [
       "array([       0,    30000,    60000, ..., 30630000, 30660000, 30690000])"
      ]
     },
     "execution_count": 23,
     "metadata": {},
     "output_type": "execute_result"
    }
   ],
   "source": [
    "position"
   ]
  },
  {
   "cell_type": "code",
   "execution_count": null,
   "metadata": {
    "collapsed": true
   },
   "outputs": [],
   "source": []
  }
 ],
 "metadata": {
  "kernelspec": {
   "display_name": "Python [conda root]",
   "language": "python",
   "name": "conda-root-py"
  },
  "language_info": {
   "codemirror_mode": {
    "name": "ipython",
    "version": 3
   },
   "file_extension": ".py",
   "mimetype": "text/x-python",
   "name": "python",
   "nbconvert_exporter": "python",
   "pygments_lexer": "ipython3",
   "version": "3.5.1"
  }
 },
 "nbformat": 4,
 "nbformat_minor": 1
}
